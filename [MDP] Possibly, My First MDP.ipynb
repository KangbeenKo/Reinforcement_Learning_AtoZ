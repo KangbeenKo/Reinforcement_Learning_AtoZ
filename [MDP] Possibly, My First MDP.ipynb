{
 "cells": [
  {
   "cell_type": "code",
   "execution_count": 1,
   "id": "unlike-surge",
   "metadata": {},
   "outputs": [],
   "source": [
    "import sys; sys.path.append('..') # add project root to the python path"
   ]
  },
  {
   "cell_type": "code",
   "execution_count": 2,
   "id": "billion-reflection",
   "metadata": {},
   "outputs": [],
   "source": [
    "from src.common.gridworld import GridworldEnv # Gridworld Environment"
   ]
  },
  {
   "cell_type": "code",
   "execution_count": 3,
   "id": "organic-roots",
   "metadata": {},
   "outputs": [],
   "source": [
    "num_y, num_x = 4, 4\n",
    "env = GridworldEnv(shape=[num_y, num_x])"
   ]
  },
  {
   "cell_type": "code",
   "execution_count": 4,
   "id": "collect-pennsylvania",
   "metadata": {},
   "outputs": [
    {
     "name": "stdout",
     "output_type": "stream",
     "text": [
      "Number of states: Discrete(16)\n",
      "Number of actions: Discrete(4)\n"
     ]
    }
   ],
   "source": [
    "observation_space = env.observation_space\n",
    "action_space = env.action_space\n",
    "print(\"Number of states: {}\".format(observation_space))\n",
    "print(\"Number of actions: {}\".format(action_space))"
   ]
  },
  {
   "cell_type": "code",
   "execution_count": 5,
   "id": "unable-webmaster",
   "metadata": {},
   "outputs": [],
   "source": [
    "import numpy as np"
   ]
  },
  {
   "cell_type": "code",
   "execution_count": 6,
   "id": "closed-seafood",
   "metadata": {},
   "outputs": [],
   "source": [
    "num_row = 2\n",
    "num_col = 2 \n",
    "\n",
    "rank2_tensor = np.random.random(size=(num_row,num_col))"
   ]
  },
  {
   "cell_type": "code",
   "execution_count": 7,
   "id": "correct-timber",
   "metadata": {},
   "outputs": [
    {
     "name": "stdout",
     "output_type": "stream",
     "text": [
      "[[0.65420808 0.62134192]\n",
      " [0.64673515 0.6899176 ]]\n"
     ]
    }
   ],
   "source": [
    "print(rank2_tensor)"
   ]
  },
  {
   "cell_type": "code",
   "execution_count": 8,
   "id": "vocal-evolution",
   "metadata": {},
   "outputs": [
    {
     "name": "stdout",
     "output_type": "stream",
     "text": [
      "Tensor shape : (2, 2)\n",
      "Tensor rank : 2\n"
     ]
    }
   ],
   "source": [
    "tesor_shape = rank2_tensor.shape\n",
    "tensor_rank = len(tesor_shape)\n",
    "print(\"Tensor shape : {}\".format(tesor_shape))\n",
    "print(\"Tensor rank : {}\".format(tensor_rank))"
   ]
  },
  {
   "cell_type": "code",
   "execution_count": 9,
   "id": "reverse-emphasis",
   "metadata": {},
   "outputs": [
    {
     "name": "stdout",
     "output_type": "stream",
     "text": [
      "P shape : (4, 16, 16)\n"
     ]
    }
   ],
   "source": [
    "P = env.P_tensor\n",
    "print(\"P shape : {}\".format(P.shape))"
   ]
  },
  {
   "cell_type": "code",
   "execution_count": 10,
   "id": "independent-austria",
   "metadata": {},
   "outputs": [],
   "source": [
    "action_up_prob = P[0, :, :]"
   ]
  },
  {
   "cell_type": "code",
   "execution_count": 11,
   "id": "covered-delivery",
   "metadata": {},
   "outputs": [
    {
     "name": "stdout",
     "output_type": "stream",
     "text": [
      "[[1. 0. 0. 0. 0. 0. 0. 0. 0. 0. 0. 0. 0. 0. 0. 0.]\n",
      " [0. 1. 0. 0. 0. 0. 0. 0. 0. 0. 0. 0. 0. 0. 0. 0.]\n",
      " [0. 0. 1. 0. 0. 0. 0. 0. 0. 0. 0. 0. 0. 0. 0. 0.]\n",
      " [0. 0. 0. 1. 0. 0. 0. 0. 0. 0. 0. 0. 0. 0. 0. 0.]\n",
      " [1. 0. 0. 0. 0. 0. 0. 0. 0. 0. 0. 0. 0. 0. 0. 0.]\n",
      " [0. 1. 0. 0. 0. 0. 0. 0. 0. 0. 0. 0. 0. 0. 0. 0.]\n",
      " [0. 0. 1. 0. 0. 0. 0. 0. 0. 0. 0. 0. 0. 0. 0. 0.]\n",
      " [0. 0. 0. 1. 0. 0. 0. 0. 0. 0. 0. 0. 0. 0. 0. 0.]\n",
      " [0. 0. 0. 0. 1. 0. 0. 0. 0. 0. 0. 0. 0. 0. 0. 0.]\n",
      " [0. 0. 0. 0. 0. 1. 0. 0. 0. 0. 0. 0. 0. 0. 0. 0.]\n",
      " [0. 0. 0. 0. 0. 0. 1. 0. 0. 0. 0. 0. 0. 0. 0. 0.]\n",
      " [0. 0. 0. 0. 0. 0. 0. 1. 0. 0. 0. 0. 0. 0. 0. 0.]\n",
      " [0. 0. 0. 0. 0. 0. 0. 0. 1. 0. 0. 0. 0. 0. 0. 0.]\n",
      " [0. 0. 0. 0. 0. 0. 0. 0. 0. 1. 0. 0. 0. 0. 0. 0.]\n",
      " [0. 0. 0. 0. 0. 0. 0. 0. 0. 0. 1. 0. 0. 0. 0. 0.]\n",
      " [0. 0. 0. 0. 0. 0. 0. 0. 0. 0. 0. 0. 0. 0. 0. 1.]]\n"
     ]
    }
   ],
   "source": [
    "print(action_up_prob)"
   ]
  },
  {
   "cell_type": "code",
   "execution_count": 12,
   "id": "amazing-shaft",
   "metadata": {},
   "outputs": [
    {
     "data": {
      "text/plain": [
       "array([[ True,  True,  True,  True,  True,  True,  True,  True,  True,\n",
       "         True,  True,  True,  True,  True,  True,  True],\n",
       "       [ True,  True,  True,  True,  True,  True,  True,  True,  True,\n",
       "         True,  True,  True,  True,  True,  True,  True],\n",
       "       [ True,  True,  True,  True,  True,  True,  True,  True,  True,\n",
       "         True,  True,  True,  True,  True,  True,  True],\n",
       "       [ True,  True,  True,  True,  True,  True,  True,  True,  True,\n",
       "         True,  True,  True,  True,  True,  True,  True],\n",
       "       [ True,  True,  True,  True,  True,  True,  True,  True,  True,\n",
       "         True,  True,  True,  True,  True,  True,  True],\n",
       "       [ True,  True,  True,  True,  True,  True,  True,  True,  True,\n",
       "         True,  True,  True,  True,  True,  True,  True],\n",
       "       [ True,  True,  True,  True,  True,  True,  True,  True,  True,\n",
       "         True,  True,  True,  True,  True,  True,  True],\n",
       "       [ True,  True,  True,  True,  True,  True,  True,  True,  True,\n",
       "         True,  True,  True,  True,  True,  True,  True],\n",
       "       [ True,  True,  True,  True,  True,  True,  True,  True,  True,\n",
       "         True,  True,  True,  True,  True,  True,  True],\n",
       "       [ True,  True,  True,  True,  True,  True,  True,  True,  True,\n",
       "         True,  True,  True,  True,  True,  True,  True],\n",
       "       [ True,  True,  True,  True,  True,  True,  True,  True,  True,\n",
       "         True,  True,  True,  True,  True,  True,  True],\n",
       "       [ True,  True,  True,  True,  True,  True,  True,  True,  True,\n",
       "         True,  True,  True,  True,  True,  True,  True],\n",
       "       [ True,  True,  True,  True,  True,  True,  True,  True,  True,\n",
       "         True,  True,  True,  True,  True,  True,  True],\n",
       "       [ True,  True,  True,  True,  True,  True,  True,  True,  True,\n",
       "         True,  True,  True,  True,  True,  True,  True],\n",
       "       [ True,  True,  True,  True,  True,  True,  True,  True,  True,\n",
       "         True,  True,  True,  True,  True,  True,  True],\n",
       "       [ True,  True,  True,  True,  True,  True,  True,  True,  True,\n",
       "         True,  True,  True,  True,  True,  True,  True]])"
      ]
     },
     "execution_count": 12,
     "metadata": {},
     "output_type": "execute_result"
    }
   ],
   "source": [
    "action_up_prob >= 0"
   ]
  },
  {
   "cell_type": "code",
   "execution_count": 13,
   "id": "driven-biology",
   "metadata": {},
   "outputs": [],
   "source": [
    "is_greater_than_0 = action_up_prob >= 0\n",
    "is_all_greater_than_0 = is_greater_than_0.sum() == is_greater_than_0.size"
   ]
  },
  {
   "cell_type": "code",
   "execution_count": 14,
   "id": "heard-freight",
   "metadata": {},
   "outputs": [
    {
     "data": {
      "text/plain": [
       "True"
      ]
     },
     "execution_count": 14,
     "metadata": {},
     "output_type": "execute_result"
    }
   ],
   "source": [
    "is_all_greater_than_0"
   ]
  },
  {
   "cell_type": "code",
   "execution_count": 15,
   "id": "closed-buffer",
   "metadata": {},
   "outputs": [
    {
     "data": {
      "text/plain": [
       "array([1., 1., 1., 1., 1., 1., 1., 1., 1., 1., 1., 1., 1., 1., 1., 1.])"
      ]
     },
     "execution_count": 15,
     "metadata": {},
     "output_type": "execute_result"
    }
   ],
   "source": [
    "action_up_prob.sum(axis=1)"
   ]
  },
  {
   "cell_type": "code",
   "execution_count": 16,
   "id": "educated-champion",
   "metadata": {},
   "outputs": [
    {
     "name": "stdout",
     "output_type": "stream",
     "text": [
      "[[ 0.  0.  0.  0.]\n",
      " [-1. -1. -1. -1.]\n",
      " [-1. -1. -1. -1.]\n",
      " [-1. -1. -1. -1.]\n",
      " [-1. -1. -1. -1.]\n",
      " [-1. -1. -1. -1.]\n",
      " [-1. -1. -1. -1.]\n",
      " [-1. -1. -1. -1.]\n",
      " [-1. -1. -1. -1.]\n",
      " [-1. -1. -1. -1.]\n",
      " [-1. -1. -1. -1.]\n",
      " [-1. -1. -1. -1.]\n",
      " [-1. -1. -1. -1.]\n",
      " [-1. -1. -1. -1.]\n",
      " [-1. -1. -1. -1.]\n",
      " [ 0.  0.  0.  0.]]\n"
     ]
    }
   ],
   "source": [
    "R = env.R_tensor\n",
    "print(R)"
   ]
  },
  {
   "cell_type": "code",
   "execution_count": 17,
   "id": "potential-necklace",
   "metadata": {},
   "outputs": [
    {
     "name": "stdout",
     "output_type": "stream",
     "text": [
      "Current position index : 11\n"
     ]
    }
   ],
   "source": [
    "_ = env.reset() # Gridworld 초기화\n",
    "print(\"Current position index : {}\".format(env.s))"
   ]
  },
  {
   "cell_type": "code",
   "execution_count": 18,
   "id": "conscious-equity",
   "metadata": {},
   "outputs": [],
   "source": [
    "action_mapper = {\n",
    "    0: 'UP',\n",
    "    1: 'RIGHT',\n",
    "    2: 'DOWN',\n",
    "    3: 'LEFT'\n",
    "}"
   ]
  },
  {
   "cell_type": "code",
   "execution_count": 19,
   "id": "handmade-berry",
   "metadata": {},
   "outputs": [
    {
     "name": "stdout",
     "output_type": "stream",
     "text": [
      "At t = 0\n",
      "==========\n",
      "T  o  o  o\n",
      "o  o  o  o\n",
      "o  o  o  x\n",
      "o  o  o  T\n",
      "==========\n",
      "state : 11\n",
      "aciton : UP\n",
      "reward : -1.0\n",
      "next state : 7 \n",
      "\n",
      "At t = 1\n",
      "==========\n",
      "T  o  o  o\n",
      "o  o  o  x\n",
      "o  o  o  o\n",
      "o  o  o  T\n",
      "==========\n",
      "state : 7\n",
      "aciton : DOWN\n",
      "reward : -1.0\n",
      "next state : 11 \n",
      "\n",
      "At t = 2\n",
      "==========\n",
      "T  o  o  o\n",
      "o  o  o  o\n",
      "o  o  o  x\n",
      "o  o  o  T\n",
      "==========\n",
      "state : 11\n",
      "aciton : RIGHT\n",
      "reward : -1.0\n",
      "next state : 11 \n",
      "\n",
      "At t = 3\n",
      "==========\n",
      "T  o  o  o\n",
      "o  o  o  o\n",
      "o  o  o  x\n",
      "o  o  o  T\n",
      "==========\n",
      "state : 11\n",
      "aciton : RIGHT\n",
      "reward : -1.0\n",
      "next state : 11 \n",
      "\n",
      "At t = 4\n",
      "==========\n",
      "T  o  o  o\n",
      "o  o  o  o\n",
      "o  o  o  x\n",
      "o  o  o  T\n",
      "==========\n",
      "state : 11\n",
      "aciton : RIGHT\n",
      "reward : -1.0\n",
      "next state : 11 \n",
      "\n",
      "At t = 5\n",
      "==========\n",
      "T  o  o  o\n",
      "o  o  o  o\n",
      "o  o  o  x\n",
      "o  o  o  T\n",
      "==========\n",
      "state : 11\n",
      "aciton : LEFT\n",
      "reward : -1.0\n",
      "next state : 10 \n",
      "\n",
      "At t = 6\n",
      "==========\n",
      "T  o  o  o\n",
      "o  o  o  o\n",
      "o  o  x  o\n",
      "o  o  o  T\n",
      "==========\n",
      "state : 10\n",
      "aciton : DOWN\n",
      "reward : -1.0\n",
      "next state : 14 \n",
      "\n",
      "At t = 7\n",
      "==========\n",
      "T  o  o  o\n",
      "o  o  o  o\n",
      "o  o  o  o\n",
      "o  o  x  T\n",
      "==========\n",
      "state : 14\n",
      "aciton : LEFT\n",
      "reward : -1.0\n",
      "next state : 13 \n",
      "\n",
      "At t = 8\n",
      "==========\n",
      "T  o  o  o\n",
      "o  o  o  o\n",
      "o  o  o  o\n",
      "o  x  o  T\n",
      "==========\n",
      "state : 13\n",
      "aciton : DOWN\n",
      "reward : -1.0\n",
      "next state : 13 \n",
      "\n",
      "At t = 9\n",
      "==========\n",
      "T  o  o  o\n",
      "o  o  o  o\n",
      "o  o  o  o\n",
      "o  x  o  T\n",
      "==========\n",
      "state : 13\n",
      "aciton : RIGHT\n",
      "reward : -1.0\n",
      "next state : 14 \n",
      "\n",
      "At t = 10\n",
      "==========\n",
      "T  o  o  o\n",
      "o  o  o  o\n",
      "o  o  o  o\n",
      "o  o  x  T\n",
      "==========\n",
      "state : 14\n",
      "aciton : RIGHT\n",
      "reward : -1.0\n",
      "next state : 15 \n",
      "\n"
     ]
    }
   ],
   "source": [
    "step_counter = 0\n",
    "while True:      \n",
    "    print(\"At t = {}\".format(step_counter))\n",
    "    env._render()\n",
    "    \n",
    "    cur_state = env.s\n",
    "    action = np.random.randint(low=0, high=4)\n",
    "    next_state, reward, done, info = env.step(action)    \n",
    "    \n",
    "    print(\"state : {}\".format(cur_state))\n",
    "    print(\"aciton : {}\".format(action_mapper[action]))\n",
    "    print(\"reward : {}\".format(reward))\n",
    "    print(\"next state : {} \\n\".format(next_state))\n",
    "    step_counter += 1\n",
    "    if done:\n",
    "        break"
   ]
  },
  {
   "cell_type": "code",
   "execution_count": 20,
   "id": "spiritual-figure",
   "metadata": {},
   "outputs": [],
   "source": [
    "def run_episode(env, s0):\n",
    "    _ = env.reset() # Gridworld 를 초기화합니다.\n",
    "    env.s = s0\n",
    "    \n",
    "    step_counter = 0\n",
    "    while True:\n",
    "        action = np.random.randint(low=0, high=4)\n",
    "        next_state, reward, done, info = env.step(action)\n",
    "\n",
    "        step_counter += 1\n",
    "        if done:\n",
    "            break\n",
    "    return step_counter"
   ]
  },
  {
   "cell_type": "code",
   "execution_count": 21,
   "id": "geographic-calculator",
   "metadata": {},
   "outputs": [
    {
     "name": "stdout",
     "output_type": "stream",
     "text": [
      "Episode 0 | Length of episode : 4\n",
      "Episode 1 | Length of episode : 5\n",
      "Episode 2 | Length of episode : 19\n",
      "Episode 3 | Length of episode : 5\n",
      "Episode 4 | Length of episode : 37\n",
      "Episode 5 | Length of episode : 8\n",
      "Episode 6 | Length of episode : 7\n",
      "Episode 7 | Length of episode : 47\n",
      "Episode 8 | Length of episode : 33\n",
      "Episode 9 | Length of episode : 15\n"
     ]
    }
   ],
   "source": [
    "n_episodes = 10\n",
    "s0 = 6\n",
    "\n",
    "for i in range(n_episodes):\n",
    "    len_ep = run_episode(env, s0)\n",
    "    print(\"Episode {} | Length of episode : {}\".format(i, len_ep))"
   ]
  }
 ],
 "metadata": {
  "kernelspec": {
   "display_name": "Python 3",
   "language": "python",
   "name": "python3"
  },
  "language_info": {
   "codemirror_mode": {
    "name": "ipython",
    "version": 3
   },
   "file_extension": ".py",
   "mimetype": "text/x-python",
   "name": "python",
   "nbconvert_exporter": "python",
   "pygments_lexer": "ipython3",
   "version": "3.7.9"
  }
 },
 "nbformat": 4,
 "nbformat_minor": 5
}
